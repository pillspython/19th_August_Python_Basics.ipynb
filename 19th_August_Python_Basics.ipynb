{
 "cells": [
  {
   "cell_type": "code",
   "execution_count": 1,
   "id": "c312049b-cf4b-4998-9a1b-9def023d964e",
   "metadata": {},
   "outputs": [],
   "source": [
    "x=23"
   ]
  },
  {
   "cell_type": "code",
   "execution_count": 2,
   "id": "83b98724-2502-4c96-a8e4-8b97c769f273",
   "metadata": {},
   "outputs": [],
   "source": [
    "y=32"
   ]
  },
  {
   "cell_type": "code",
   "execution_count": 3,
   "id": "fa9c6df9-e655-4892-a7ba-2e208c81edd1",
   "metadata": {},
   "outputs": [],
   "source": [
    "x,y=y,x"
   ]
  },
  {
   "cell_type": "code",
   "execution_count": 4,
   "id": "98fede14-2b55-4d26-a6d1-588d7f7da0ee",
   "metadata": {},
   "outputs": [
    {
     "data": {
      "text/plain": [
       "32"
      ]
     },
     "execution_count": 4,
     "metadata": {},
     "output_type": "execute_result"
    }
   ],
   "source": [
    "x"
   ]
  },
  {
   "cell_type": "code",
   "execution_count": 5,
   "id": "eb4f6cbf-4e20-4b9f-98f8-cd58cd09dbf9",
   "metadata": {},
   "outputs": [
    {
     "data": {
      "text/plain": [
       "23"
      ]
     },
     "execution_count": 5,
     "metadata": {},
     "output_type": "execute_result"
    }
   ],
   "source": [
    "y"
   ]
  },
  {
   "cell_type": "code",
   "execution_count": 6,
   "id": "a657cdea-6736-403a-8a68-847c77389d59",
   "metadata": {},
   "outputs": [
    {
     "name": "stdin",
     "output_type": "stream",
     "text": [
      "please enter the length of the rectangle: 7\n",
      "please enter the breadth of the rectangle: 8\n"
     ]
    },
    {
     "data": {
      "text/plain": [
       "56.0"
      ]
     },
     "execution_count": 6,
     "metadata": {},
     "output_type": "execute_result"
    }
   ],
   "source": [
    "l=float(input('please enter the length of the rectangle:'))\n",
    "w=float(input('please enter the breadth of the rectangle:'))\n",
    "area=l*w\n",
    "area\n",
    "#we have used input function in order to evaluate multiple answers from different people\n",
    "#we have used float function because the length and breadth of a rectangle are continuous numbers and not discrete"
   ]
  },
  {
   "cell_type": "code",
   "execution_count": 7,
   "id": "b7352e97-c944-45cc-9c46-36298297f973",
   "metadata": {},
   "outputs": [
    {
     "name": "stdin",
     "output_type": "stream",
     "text": [
      "enter celsius degree: 89\n"
     ]
    },
    {
     "name": "stdout",
     "output_type": "stream",
     "text": [
      "89.0 celsius degree is 192.20000000000002 in farenheit degree\n"
     ]
    }
   ],
   "source": [
    "celsius=float(input('enter celsius degree:'))\n",
    "farenheit=celsius*1.8+32\n",
    "print(celsius, \"celsius degree\", \"is\", farenheit, \"in farenheit degree\")"
   ]
  },
  {
   "cell_type": "code",
   "execution_count": 8,
   "id": "01b3142f-bef9-46de-a1ed-d1a710882e4a",
   "metadata": {},
   "outputs": [
    {
     "name": "stdin",
     "output_type": "stream",
     "text": [
      "please enter a string: hlla\n"
     ]
    },
    {
     "name": "stdout",
     "output_type": "stream",
     "text": [
      "the length of the string is 4\n"
     ]
    }
   ],
   "source": [
    "s=input('please enter a string:')\n",
    "l=len(s)\n",
    "print(\"the length of the string is\",l)\n",
    "#len function gives the length of the input be it a string or a integer"
   ]
  },
  {
   "cell_type": "code",
   "execution_count": 9,
   "id": "e52d6c7a-4e00-4130-a8bd-f8df009f2660",
   "metadata": {},
   "outputs": [
    {
     "name": "stdin",
     "output_type": "stream",
     "text": [
      "please enter a sentence: nxka\n"
     ]
    },
    {
     "name": "stdout",
     "output_type": "stream",
     "text": [
      "1\n"
     ]
    }
   ],
   "source": [
    "a=input('please enter a sentence:')\n",
    "count=0\n",
    "vowels=[\"a\",\"e\",\"i\",\"o\",\"u\",\"A\",\"E\",\"I\",\"O\",\"U\"]\n",
    "for char in a:\n",
    "    if char in vowels:\n",
    "     count= count+1\n",
    "print(count)"
   ]
  },
  {
   "cell_type": "code",
   "execution_count": 17,
   "id": "03bfeae4-9a51-4bff-957d-24686af3a9d6",
   "metadata": {},
   "outputs": [
    {
     "name": "stdin",
     "output_type": "stream",
     "text": [
      "please enter a sentence: hello i am akanksha\n"
     ]
    },
    {
     "name": "stdout",
     "output_type": "stream",
     "text": [
      "ahsknaka ma i olleh\n"
     ]
    }
   ],
   "source": [
    "s1=input('please enter a sentence:')\n",
    "reverse=s1[-1::-1]\n",
    "print(reverse)"
   ]
  },
  {
   "cell_type": "code",
   "execution_count": 24,
   "id": "89c9d008-fb4b-417b-9cae-a1714db7d511",
   "metadata": {},
   "outputs": [
    {
     "name": "stdin",
     "output_type": "stream",
     "text": [
      "please enter a sentence: hello\n"
     ]
    },
    {
     "name": "stdout",
     "output_type": "stream",
     "text": [
      "no\n"
     ]
    }
   ],
   "source": [
    "p=input('please enter a sentence:')\n",
    "def isPalindrome(p):\n",
    "    return p==p[::-1]\n",
    "ans=isPalindrome(p)\n",
    "if ans:\n",
    "    print(\"yes\")\n",
    "else:\n",
    "    print(\"no\")"
   ]
  },
  {
   "cell_type": "code",
   "execution_count": 25,
   "id": "abd81b9f-4e59-48b4-b423-d3ed32b7c587",
   "metadata": {},
   "outputs": [
    {
     "name": "stdin",
     "output_type": "stream",
     "text": [
      "please enter a sentence: hello i am\n"
     ]
    },
    {
     "name": "stdout",
     "output_type": "stream",
     "text": [
      "helloiam\n"
     ]
    }
   ],
   "source": [
    "t=input('please enter a sentence:')\n",
    "def remove(t):\n",
    "    return t.replace(\" \",\"\")\n",
    "print(remove(t))"
   ]
  },
  {
   "cell_type": "code",
   "execution_count": null,
   "id": "22cdc428-8f73-42af-a676-9f25ff67fad9",
   "metadata": {},
   "outputs": [],
   "source": []
  }
 ],
 "metadata": {
  "kernelspec": {
   "display_name": "Python 3 (ipykernel)",
   "language": "python",
   "name": "python3"
  },
  "language_info": {
   "codemirror_mode": {
    "name": "ipython",
    "version": 3
   },
   "file_extension": ".py",
   "mimetype": "text/x-python",
   "name": "python",
   "nbconvert_exporter": "python",
   "pygments_lexer": "ipython3",
   "version": "3.10.8"
  }
 },
 "nbformat": 4,
 "nbformat_minor": 5
}
